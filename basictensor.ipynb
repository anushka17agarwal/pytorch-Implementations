{
  "nbformat": 4,
  "nbformat_minor": 0,
  "metadata": {
    "colab": {
      "name": "basictensor.ipynb",
      "provenance": [],
      "collapsed_sections": []
    },
    "kernelspec": {
      "name": "python3",
      "display_name": "Python 3"
    },
    "language_info": {
      "name": "python"
    }
  },
  "cells": [
    {
      "cell_type": "code",
      "metadata": {
        "colab": {
          "base_uri": "https://localhost:8080/"
        },
        "id": "NgUzUJM7P4b9",
        "outputId": "2e0cf82d-6198-4a3d-f069-f9ef5bcff58c"
      },
      "source": [
        "!pip install torch torchvision \n"
      ],
      "execution_count": null,
      "outputs": [
        {
          "output_type": "stream",
          "name": "stdout",
          "text": [
            "Requirement already satisfied: torch in /usr/local/lib/python3.7/dist-packages (1.9.0+cu102)\n",
            "Requirement already satisfied: torchvision in /usr/local/lib/python3.7/dist-packages (0.10.0+cu102)\n",
            "Requirement already satisfied: typing-extensions in /usr/local/lib/python3.7/dist-packages (from torch) (3.7.4.3)\n",
            "Requirement already satisfied: numpy in /usr/local/lib/python3.7/dist-packages (from torchvision) (1.19.5)\n",
            "Requirement already satisfied: pillow>=5.3.0 in /usr/local/lib/python3.7/dist-packages (from torchvision) (7.1.2)\n"
          ]
        }
      ]
    },
    {
      "cell_type": "code",
      "metadata": {
        "colab": {
          "base_uri": "https://localhost:8080/"
        },
        "id": "yhhO_uDkP7FX",
        "outputId": "0359dc9b-bb2f-4b1c-cc78-fa8700196013"
      },
      "source": [
        "import torch\n",
        "print(torch.__version__)"
      ],
      "execution_count": null,
      "outputs": [
        {
          "output_type": "stream",
          "name": "stdout",
          "text": [
            "1.9.0+cu102\n"
          ]
        }
      ]
    },
    {
      "cell_type": "code",
      "metadata": {
        "colab": {
          "base_uri": "https://localhost:8080/"
        },
        "id": "dNWqKE2MQxGG",
        "outputId": "5e6e9c48-5754-4f4e-8854-5928095476d0"
      },
      "source": [
        "#Creating a tensor\n",
        "device = \"cuda\" if torch.cuda.is_available() else \"cpu\"\n",
        "my_tensor= torch.tensor([[1, 2, 3], [4, 5, 6]], dtype=torch.float32,device= device )\n",
        "print(my_tensor)\n",
        "print(device)"
      ],
      "execution_count": null,
      "outputs": [
        {
          "output_type": "stream",
          "name": "stdout",
          "text": [
            "tensor([[1., 2., 3.],\n",
            "        [4., 5., 6.]])\n",
            "cpu\n"
          ]
        }
      ]
    },
    {
      "cell_type": "code",
      "metadata": {
        "colab": {
          "base_uri": "https://localhost:8080/"
        },
        "id": "ck1tgHe1RlnK",
        "outputId": "3e9f150d-8e97-4555-975d-7dad8adbbac9"
      },
      "source": [
        "#Initialization methods\n",
        "\n",
        "x= torch.empty(size= (3, 3))\n",
        "print(x)\n",
        "x= torch.zeros((3, 9))\n",
        "print(x)\n"
      ],
      "execution_count": null,
      "outputs": [
        {
          "output_type": "stream",
          "name": "stdout",
          "text": [
            "tensor([[-4.6433e-29,  3.0649e-41,  0.0000e+00],\n",
            "        [ 0.0000e+00,  0.0000e+00,  0.0000e+00],\n",
            "        [ 0.0000e+00,  0.0000e+00,  0.0000e+00]])\n",
            "tensor([[0., 0., 0., 0., 0., 0., 0., 0., 0.],\n",
            "        [0., 0., 0., 0., 0., 0., 0., 0., 0.],\n",
            "        [0., 0., 0., 0., 0., 0., 0., 0., 0.]])\n"
          ]
        }
      ]
    },
    {
      "cell_type": "code",
      "metadata": {
        "colab": {
          "base_uri": "https://localhost:8080/"
        },
        "id": "JBTQyRbATCF0",
        "outputId": "f06fafd0-85a2-4409-84b8-6405188f2e96"
      },
      "source": [
        "#initialize and convert tensors to other data types\n",
        "\n",
        "tensor= torch.arange(4)\n",
        "print(tensor)\n",
        "print(tensor.short())\n",
        "print(tensor.float())"
      ],
      "execution_count": null,
      "outputs": [
        {
          "output_type": "stream",
          "name": "stdout",
          "text": [
            "tensor([0, 1, 2, 3])\n",
            "tensor([0, 1, 2, 3], dtype=torch.int16)\n",
            "tensor([0., 1., 2., 3.])\n"
          ]
        }
      ]
    },
    {
      "cell_type": "code",
      "metadata": {
        "id": "uj28ukNFUH7R"
      },
      "source": [
        "#tensor to numpy array and vice versa\n",
        "import numpy as np\n",
        "np_array = np.zeros((5, 5))\n",
        "#to convert to tensors\n",
        "tensor= torch.from_numpy(np_array)\n",
        "\n",
        "\n",
        "#to convert to numpy array\n",
        "np_array_back= tensor.numpy()\n"
      ],
      "execution_count": null,
      "outputs": []
    },
    {
      "cell_type": "code",
      "metadata": {
        "colab": {
          "base_uri": "https://localhost:8080/"
        },
        "id": "nhf4Ys8HU_14",
        "outputId": "ea3b43e6-6a58-407f-f4a9-ded9ddc5b19a"
      },
      "source": [
        "#Performing mathamatecial operations in torch\n",
        "\n",
        "X= torch.tensor([1, 2, 3])\n",
        "Y= torch.tensor([9, 8, 7])\n",
        "\n",
        "#addition\n",
        "z= X+ Y\n",
        "print(z)\n",
        "\n",
        "#divison\n",
        "\n",
        "z= torch.true_divide(X, Y)\n",
        "print(z)\n",
        "\n",
        "#inplace operations(operation is done without making a copy)\n",
        "t= torch.zeros(3)\n",
        "t.add_(X)\n",
        "\n",
        "#exponentiation\n",
        "\n",
        "z= X.pow(2)\n",
        "print(z)\n",
        "\n",
        "\n",
        "#Matrix Multiplication\n",
        "\n",
        "x1= torch.rand((2, 5))\n",
        "x2= torch.rand((5, 3))\n",
        "print(x1, x2)\n",
        "print(torch.mm(x1, x2)) #returns  a 2X3 matrix\n",
        "\n",
        "#Element wise multiplication\n",
        "\n",
        "z= X* Y\n",
        "print(z)\n",
        "\n",
        "#batch matrix multiplication\n",
        "\n",
        "batch= 32\n",
        "n=10\n",
        "m=20\n",
        "p= 30\n",
        "tensor1= torch.rand((batch, n, m))\n",
        "print(tensor1)"
      ],
      "execution_count": null,
      "outputs": [
        {
          "output_type": "stream",
          "name": "stdout",
          "text": [
            "tensor([10, 10, 10])\n",
            "tensor([0.1111, 0.2500, 0.4286])\n",
            "tensor([1, 4, 9])\n",
            "tensor([[0.4811, 0.6190, 0.3199, 0.1224, 0.5081],\n",
            "        [0.5184, 0.3397, 0.1414, 0.2568, 0.1046]]) tensor([[0.2196, 0.3121, 0.6939],\n",
            "        [0.1445, 0.7185, 0.8721],\n",
            "        [0.7046, 0.0467, 0.0897],\n",
            "        [0.8569, 0.0194, 0.8436],\n",
            "        [0.0864, 0.9065, 0.4329]])\n",
            "tensor([[0.5692, 1.0729, 1.2256],\n",
            "        [0.4916, 0.5122, 0.9305]])\n",
            "tensor([ 9, 16, 21])\n",
            "tensor([[[0.6628, 0.8848, 0.3357,  ..., 0.7894, 0.4633, 0.5369],\n",
            "         [0.6964, 0.6579, 0.6123,  ..., 0.1456, 0.0642, 0.8991],\n",
            "         [0.0211, 0.1317, 0.7095,  ..., 0.9087, 0.8595, 0.4484],\n",
            "         ...,\n",
            "         [0.2118, 0.1385, 0.4681,  ..., 0.7292, 0.9328, 0.5954],\n",
            "         [0.2893, 0.6329, 0.4983,  ..., 0.6508, 0.6596, 0.7926],\n",
            "         [0.6499, 0.5235, 0.3829,  ..., 0.9141, 0.6033, 0.9080]],\n",
            "\n",
            "        [[0.5592, 0.2313, 0.3210,  ..., 0.2134, 0.1472, 0.6842],\n",
            "         [0.3437, 0.8899, 0.8491,  ..., 0.7129, 0.6254, 0.9347],\n",
            "         [0.0610, 0.2837, 0.9844,  ..., 0.8522, 0.9257, 0.6883],\n",
            "         ...,\n",
            "         [0.9646, 0.9339, 0.7783,  ..., 0.9066, 0.4280, 0.8166],\n",
            "         [0.4387, 0.5147, 0.6832,  ..., 0.4475, 0.4286, 0.9084],\n",
            "         [0.4664, 0.0661, 0.0882,  ..., 0.3141, 0.5458, 0.1234]],\n",
            "\n",
            "        [[0.9105, 0.7257, 0.6014,  ..., 0.9343, 0.9139, 0.7798],\n",
            "         [0.5212, 0.1649, 0.0767,  ..., 0.3496, 0.0011, 0.2742],\n",
            "         [0.5392, 0.5198, 0.9646,  ..., 0.0290, 0.4010, 0.7648],\n",
            "         ...,\n",
            "         [0.9209, 0.8132, 0.6131,  ..., 0.4267, 0.1582, 0.7253],\n",
            "         [0.1240, 0.6873, 0.3126,  ..., 0.2404, 0.1779, 0.5932],\n",
            "         [0.2831, 0.8384, 0.9923,  ..., 0.0924, 0.3508, 0.6276]],\n",
            "\n",
            "        ...,\n",
            "\n",
            "        [[0.8753, 0.6380, 0.6645,  ..., 0.7294, 0.4339, 0.1996],\n",
            "         [0.0639, 0.5703, 0.5263,  ..., 0.1127, 0.5268, 0.7546],\n",
            "         [0.7095, 0.3487, 0.0939,  ..., 0.1573, 0.8076, 0.8279],\n",
            "         ...,\n",
            "         [0.8749, 0.3836, 0.7471,  ..., 0.4528, 0.7471, 0.3545],\n",
            "         [0.4952, 0.5151, 0.5082,  ..., 0.5406, 0.5164, 0.9739],\n",
            "         [0.8684, 0.0220, 0.4910,  ..., 0.7308, 0.6344, 0.3006]],\n",
            "\n",
            "        [[0.1431, 0.5847, 0.6131,  ..., 0.7142, 0.8725, 0.4600],\n",
            "         [0.7168, 0.9659, 0.4120,  ..., 0.2289, 0.9540, 0.8160],\n",
            "         [0.0357, 0.5363, 0.9905,  ..., 0.1786, 0.5593, 0.5127],\n",
            "         ...,\n",
            "         [0.9375, 0.4515, 0.7603,  ..., 0.0177, 0.3299, 0.8113],\n",
            "         [0.2467, 0.5837, 0.5702,  ..., 0.1221, 0.7889, 0.3869],\n",
            "         [0.0012, 0.5779, 0.0806,  ..., 0.7837, 0.2471, 0.8733]],\n",
            "\n",
            "        [[0.9901, 0.6063, 0.3232,  ..., 0.0228, 0.0467, 0.0063],\n",
            "         [0.8588, 0.9383, 0.1413,  ..., 0.2816, 0.1844, 0.8949],\n",
            "         [0.4578, 0.9033, 0.5564,  ..., 0.8487, 0.8156, 0.1615],\n",
            "         ...,\n",
            "         [0.4997, 0.7896, 0.8205,  ..., 0.7095, 0.4886, 0.8617],\n",
            "         [0.6437, 0.3238, 0.4320,  ..., 0.7399, 0.4038, 0.3589],\n",
            "         [0.0298, 0.9362, 0.7123,  ..., 0.3043, 0.5354, 0.0774]]])\n"
          ]
        }
      ]
    },
    {
      "cell_type": "code",
      "metadata": {
        "colab": {
          "base_uri": "https://localhost:8080/"
        },
        "id": "Hviai6feVqk6",
        "outputId": "b52348e4-fbfa-49dc-89cb-e4c119cc91a0"
      },
      "source": [
        "#broadcasting\n",
        "#This is a matrix\n",
        "x1= torch.rand((5, 5))\n",
        "print(x1)\n",
        "#this is a vector\n",
        "x2= torch.rand((1, 5))\n",
        "print(x2)\n",
        "z= x1-x2\n",
        "print(z)\n"
      ],
      "execution_count": null,
      "outputs": [
        {
          "output_type": "stream",
          "name": "stdout",
          "text": [
            "tensor([[0.6798, 0.6891, 0.9855, 0.4446, 0.0871],\n",
            "        [0.1822, 0.3108, 0.4922, 0.9359, 0.1692],\n",
            "        [0.8654, 0.6702, 0.9694, 0.7974, 0.6240],\n",
            "        [0.3435, 0.6397, 0.0907, 0.4582, 0.0759],\n",
            "        [0.6283, 0.9227, 0.1677, 0.5531, 0.5329]])\n",
            "tensor([[0.5254, 0.9239, 0.2588, 0.6854, 0.1324]])\n",
            "tensor([[ 0.1544, -0.2348,  0.7267, -0.2407, -0.0453],\n",
            "        [-0.3432, -0.6131,  0.2334,  0.2505,  0.0369],\n",
            "        [ 0.3399, -0.2536,  0.7107,  0.1120,  0.4916],\n",
            "        [-0.1819, -0.2842, -0.1681, -0.2272, -0.0565],\n",
            "        [ 0.1029, -0.0012, -0.0911, -0.1322,  0.4005]])\n"
          ]
        }
      ]
    },
    {
      "cell_type": "code",
      "metadata": {
        "id": "HWJ8LNykvkFP"
      },
      "source": [
        ""
      ],
      "execution_count": null,
      "outputs": []
    }
  ]
}